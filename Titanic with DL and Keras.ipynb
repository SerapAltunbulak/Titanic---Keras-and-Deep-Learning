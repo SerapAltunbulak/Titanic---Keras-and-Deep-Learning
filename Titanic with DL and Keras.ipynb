{
 "cells": [
  {
   "cell_type": "code",
   "execution_count": 1,
   "metadata": {},
   "outputs": [],
   "source": [
    "import numpy as np\n",
    "import pandas as pd\n",
    "import seaborn as sns\n",
    "import matplotlib.pyplot as plt\n",
    "%matplotlib inline\n",
    "\n",
    "import warnings\n",
    "warnings.filterwarnings(\"ignore\")\n",
    "\n",
    "from sklearn.model_selection import train_test_split\n",
    "pd.set_option(\"display.max_columns\",100)\n",
    "\n",
    "from tensorflow.keras.models import Sequential\n",
    "from tensorflow.keras.layers import Dense"
   ]
  },
  {
   "cell_type": "code",
   "execution_count": 2,
   "metadata": {},
   "outputs": [
    {
     "data": {
      "text/plain": [
       "((891, 12), (418, 11))"
      ]
     },
     "execution_count": 2,
     "metadata": {},
     "output_type": "execute_result"
    }
   ],
   "source": [
    "df1, df2 = pd.read_csv(\"ttrain.csv\"), pd.read_csv(\"ttest.csv\")\n",
    "df1.shape, df2.shape"
   ]
  },
  {
   "cell_type": "code",
   "execution_count": 3,
   "metadata": {},
   "outputs": [],
   "source": [
    "df = df1.append(df2)"
   ]
  },
  {
   "cell_type": "code",
   "execution_count": 4,
   "metadata": {},
   "outputs": [
    {
     "data": {
      "text/html": [
       "<div>\n",
       "<style scoped>\n",
       "    .dataframe tbody tr th:only-of-type {\n",
       "        vertical-align: middle;\n",
       "    }\n",
       "\n",
       "    .dataframe tbody tr th {\n",
       "        vertical-align: top;\n",
       "    }\n",
       "\n",
       "    .dataframe thead th {\n",
       "        text-align: right;\n",
       "    }\n",
       "</style>\n",
       "<table border=\"1\" class=\"dataframe\">\n",
       "  <thead>\n",
       "    <tr style=\"text-align: right;\">\n",
       "      <th></th>\n",
       "      <th>PassengerId</th>\n",
       "      <th>Survived</th>\n",
       "      <th>Pclass</th>\n",
       "      <th>Name</th>\n",
       "      <th>Sex</th>\n",
       "      <th>Age</th>\n",
       "      <th>SibSp</th>\n",
       "      <th>Parch</th>\n",
       "      <th>Ticket</th>\n",
       "      <th>Fare</th>\n",
       "      <th>Cabin</th>\n",
       "      <th>Embarked</th>\n",
       "    </tr>\n",
       "  </thead>\n",
       "  <tbody>\n",
       "    <tr>\n",
       "      <th>219</th>\n",
       "      <td>220</td>\n",
       "      <td>0.0</td>\n",
       "      <td>2</td>\n",
       "      <td>Harris, Mr. Walter</td>\n",
       "      <td>male</td>\n",
       "      <td>30.0</td>\n",
       "      <td>0</td>\n",
       "      <td>0</td>\n",
       "      <td>W/C 14208</td>\n",
       "      <td>10.5000</td>\n",
       "      <td>NaN</td>\n",
       "      <td>S</td>\n",
       "    </tr>\n",
       "    <tr>\n",
       "      <th>271</th>\n",
       "      <td>1163</td>\n",
       "      <td>NaN</td>\n",
       "      <td>3</td>\n",
       "      <td>Fox, Mr. Patrick</td>\n",
       "      <td>male</td>\n",
       "      <td>NaN</td>\n",
       "      <td>0</td>\n",
       "      <td>0</td>\n",
       "      <td>368573</td>\n",
       "      <td>7.7500</td>\n",
       "      <td>NaN</td>\n",
       "      <td>Q</td>\n",
       "    </tr>\n",
       "    <tr>\n",
       "      <th>346</th>\n",
       "      <td>347</td>\n",
       "      <td>1.0</td>\n",
       "      <td>2</td>\n",
       "      <td>Smith, Miss. Marion Elsie</td>\n",
       "      <td>female</td>\n",
       "      <td>40.0</td>\n",
       "      <td>0</td>\n",
       "      <td>0</td>\n",
       "      <td>31418</td>\n",
       "      <td>13.0000</td>\n",
       "      <td>NaN</td>\n",
       "      <td>S</td>\n",
       "    </tr>\n",
       "    <tr>\n",
       "      <th>445</th>\n",
       "      <td>446</td>\n",
       "      <td>1.0</td>\n",
       "      <td>1</td>\n",
       "      <td>Dodge, Master. Washington</td>\n",
       "      <td>male</td>\n",
       "      <td>4.0</td>\n",
       "      <td>0</td>\n",
       "      <td>2</td>\n",
       "      <td>33638</td>\n",
       "      <td>81.8583</td>\n",
       "      <td>A34</td>\n",
       "      <td>S</td>\n",
       "    </tr>\n",
       "    <tr>\n",
       "      <th>421</th>\n",
       "      <td>422</td>\n",
       "      <td>0.0</td>\n",
       "      <td>3</td>\n",
       "      <td>Charters, Mr. David</td>\n",
       "      <td>male</td>\n",
       "      <td>21.0</td>\n",
       "      <td>0</td>\n",
       "      <td>0</td>\n",
       "      <td>A/5. 13032</td>\n",
       "      <td>7.7333</td>\n",
       "      <td>NaN</td>\n",
       "      <td>Q</td>\n",
       "    </tr>\n",
       "    <tr>\n",
       "      <th>295</th>\n",
       "      <td>296</td>\n",
       "      <td>0.0</td>\n",
       "      <td>1</td>\n",
       "      <td>Lewy, Mr. Ervin G</td>\n",
       "      <td>male</td>\n",
       "      <td>NaN</td>\n",
       "      <td>0</td>\n",
       "      <td>0</td>\n",
       "      <td>PC 17612</td>\n",
       "      <td>27.7208</td>\n",
       "      <td>NaN</td>\n",
       "      <td>C</td>\n",
       "    </tr>\n",
       "    <tr>\n",
       "      <th>817</th>\n",
       "      <td>818</td>\n",
       "      <td>0.0</td>\n",
       "      <td>2</td>\n",
       "      <td>Mallet, Mr. Albert</td>\n",
       "      <td>male</td>\n",
       "      <td>31.0</td>\n",
       "      <td>1</td>\n",
       "      <td>1</td>\n",
       "      <td>S.C./PARIS 2079</td>\n",
       "      <td>37.0042</td>\n",
       "      <td>NaN</td>\n",
       "      <td>C</td>\n",
       "    </tr>\n",
       "    <tr>\n",
       "      <th>212</th>\n",
       "      <td>1104</td>\n",
       "      <td>NaN</td>\n",
       "      <td>2</td>\n",
       "      <td>Deacon, Mr. Percy William</td>\n",
       "      <td>male</td>\n",
       "      <td>17.0</td>\n",
       "      <td>0</td>\n",
       "      <td>0</td>\n",
       "      <td>S.O.C. 14879</td>\n",
       "      <td>73.5000</td>\n",
       "      <td>NaN</td>\n",
       "      <td>S</td>\n",
       "    </tr>\n",
       "    <tr>\n",
       "      <th>10</th>\n",
       "      <td>11</td>\n",
       "      <td>1.0</td>\n",
       "      <td>3</td>\n",
       "      <td>Sandstrom, Miss. Marguerite Rut</td>\n",
       "      <td>female</td>\n",
       "      <td>4.0</td>\n",
       "      <td>1</td>\n",
       "      <td>1</td>\n",
       "      <td>PP 9549</td>\n",
       "      <td>16.7000</td>\n",
       "      <td>G6</td>\n",
       "      <td>S</td>\n",
       "    </tr>\n",
       "    <tr>\n",
       "      <th>370</th>\n",
       "      <td>1262</td>\n",
       "      <td>NaN</td>\n",
       "      <td>2</td>\n",
       "      <td>Giles, Mr. Edgar</td>\n",
       "      <td>male</td>\n",
       "      <td>21.0</td>\n",
       "      <td>1</td>\n",
       "      <td>0</td>\n",
       "      <td>28133</td>\n",
       "      <td>11.5000</td>\n",
       "      <td>NaN</td>\n",
       "      <td>S</td>\n",
       "    </tr>\n",
       "  </tbody>\n",
       "</table>\n",
       "</div>"
      ],
      "text/plain": [
       "     PassengerId  Survived  Pclass                             Name     Sex  \\\n",
       "219          220       0.0       2               Harris, Mr. Walter    male   \n",
       "271         1163       NaN       3                 Fox, Mr. Patrick    male   \n",
       "346          347       1.0       2        Smith, Miss. Marion Elsie  female   \n",
       "445          446       1.0       1        Dodge, Master. Washington    male   \n",
       "421          422       0.0       3              Charters, Mr. David    male   \n",
       "295          296       0.0       1                Lewy, Mr. Ervin G    male   \n",
       "817          818       0.0       2               Mallet, Mr. Albert    male   \n",
       "212         1104       NaN       2        Deacon, Mr. Percy William    male   \n",
       "10            11       1.0       3  Sandstrom, Miss. Marguerite Rut  female   \n",
       "370         1262       NaN       2                 Giles, Mr. Edgar    male   \n",
       "\n",
       "      Age  SibSp  Parch           Ticket     Fare Cabin Embarked  \n",
       "219  30.0      0      0        W/C 14208  10.5000   NaN        S  \n",
       "271   NaN      0      0           368573   7.7500   NaN        Q  \n",
       "346  40.0      0      0            31418  13.0000   NaN        S  \n",
       "445   4.0      0      2            33638  81.8583   A34        S  \n",
       "421  21.0      0      0       A/5. 13032   7.7333   NaN        Q  \n",
       "295   NaN      0      0         PC 17612  27.7208   NaN        C  \n",
       "817  31.0      1      1  S.C./PARIS 2079  37.0042   NaN        C  \n",
       "212  17.0      0      0     S.O.C. 14879  73.5000   NaN        S  \n",
       "10    4.0      1      1          PP 9549  16.7000    G6        S  \n",
       "370  21.0      1      0            28133  11.5000   NaN        S  "
      ]
     },
     "execution_count": 4,
     "metadata": {},
     "output_type": "execute_result"
    }
   ],
   "source": [
    "df.sample(10)"
   ]
  },
  {
   "cell_type": "code",
   "execution_count": 5,
   "metadata": {},
   "outputs": [
    {
     "name": "stdout",
     "output_type": "stream",
     "text": [
      "<class 'pandas.core.frame.DataFrame'>\n",
      "Int64Index: 1309 entries, 0 to 417\n",
      "Data columns (total 12 columns):\n",
      " #   Column       Non-Null Count  Dtype  \n",
      "---  ------       --------------  -----  \n",
      " 0   PassengerId  1309 non-null   int64  \n",
      " 1   Survived     891 non-null    float64\n",
      " 2   Pclass       1309 non-null   int64  \n",
      " 3   Name         1309 non-null   object \n",
      " 4   Sex          1309 non-null   object \n",
      " 5   Age          1046 non-null   float64\n",
      " 6   SibSp        1309 non-null   int64  \n",
      " 7   Parch        1309 non-null   int64  \n",
      " 8   Ticket       1309 non-null   object \n",
      " 9   Fare         1308 non-null   float64\n",
      " 10  Cabin        295 non-null    object \n",
      " 11  Embarked     1307 non-null   object \n",
      "dtypes: float64(3), int64(4), object(5)\n",
      "memory usage: 132.9+ KB\n"
     ]
    }
   ],
   "source": [
    "df.info()"
   ]
  },
  {
   "cell_type": "code",
   "execution_count": 6,
   "metadata": {},
   "outputs": [
    {
     "data": {
      "text/plain": [
       "PassengerId       0\n",
       "Survived        418\n",
       "Pclass            0\n",
       "Name              0\n",
       "Sex               0\n",
       "Age             263\n",
       "SibSp             0\n",
       "Parch             0\n",
       "Ticket            0\n",
       "Fare              1\n",
       "Cabin          1014\n",
       "Embarked          2\n",
       "dtype: int64"
      ]
     },
     "execution_count": 6,
     "metadata": {},
     "output_type": "execute_result"
    }
   ],
   "source": [
    "df.isnull().sum()"
   ]
  },
  {
   "cell_type": "code",
   "execution_count": 7,
   "metadata": {},
   "outputs": [],
   "source": [
    "del df['Cabin'] # Too empty"
   ]
  },
  {
   "cell_type": "code",
   "execution_count": 8,
   "metadata": {},
   "outputs": [
    {
     "data": {
      "text/plain": [
       "S    0.699311\n",
       "C    0.206580\n",
       "Q    0.094109\n",
       "Name: Embarked, dtype: float64"
      ]
     },
     "execution_count": 8,
     "metadata": {},
     "output_type": "execute_result"
    }
   ],
   "source": [
    "df.Embarked.value_counts(normalize=True)"
   ]
  },
  {
   "cell_type": "code",
   "execution_count": 9,
   "metadata": {},
   "outputs": [
    {
     "data": {
      "text/plain": [
       "Kelly, Mr. James                     2\n",
       "Connolly, Miss. Kate                 2\n",
       "Widegren, Mr. Carl/Charles Peter     1\n",
       "Rowe, Mr. Alfred G                   1\n",
       "McCarthy, Miss. Catherine Katie\"\"    1\n",
       "                                    ..\n",
       "Elsbury, Mr. William James           1\n",
       "Hamalainen, Mrs. William (Anna)      1\n",
       "Carter, Miss. Lucile Polk            1\n",
       "Patchett, Mr. George                 1\n",
       "Adahl, Mr. Mauritz Nils Martin       1\n",
       "Name: Name, Length: 1307, dtype: int64"
      ]
     },
     "execution_count": 9,
     "metadata": {},
     "output_type": "execute_result"
    }
   ],
   "source": [
    "df.Name.value_counts()"
   ]
  },
  {
   "cell_type": "code",
   "execution_count": 10,
   "metadata": {},
   "outputs": [
    {
     "data": {
      "text/plain": [
       "Mr          757\n",
       "Miss        260\n",
       "Mrs         197\n",
       "Master       61\n",
       "Rev           8\n",
       "Dr            8\n",
       "Col           4\n",
       "Ms            2\n",
       "Major         2\n",
       "Mlle          2\n",
       "Don           1\n",
       "Lady          1\n",
       "Capt          1\n",
       "Dona          1\n",
       "Jonkheer      1\n",
       "Countess      1\n",
       "Mme           1\n",
       "Sir           1\n",
       "Name: Title, dtype: int64"
      ]
     },
     "execution_count": 10,
     "metadata": {},
     "output_type": "execute_result"
    }
   ],
   "source": [
    "df['Title'] = df['Name'].str.extract(' ([A-Za-z]+)\\.', expand=False)\n",
    "df['Title'].value_counts()"
   ]
  },
  {
   "cell_type": "code",
   "execution_count": 11,
   "metadata": {},
   "outputs": [],
   "source": [
    "df['Title'] = df['Title'].replace(['Ms', 'Mlle'], 'Miss')\n",
    "df['Title'] = df['Title'].replace(['Mme', 'Countess', 'Lady', 'Dona'], 'Mrs')\n",
    "df['Title'] = df['Title'].replace(['Dr', 'Major', 'Col', 'Sir', 'Rev', 'Jonkheer', 'Capt', 'Don'], 'Mr')"
   ]
  },
  {
   "cell_type": "code",
   "execution_count": 12,
   "metadata": {},
   "outputs": [
    {
     "data": {
      "image/png": "[encoded data removed]",
      "text/plain": [
       "<Figure size 432x288 with 1 Axes>"
      ]
     },
     "metadata": {
      "needs_background": "light"
     },
     "output_type": "display_data"
    }
   ],
   "source": [
    "sns.countplot(df['Title'])\n",
    "plt.xticks(rotation=90);"
   ]
  },
  {
   "cell_type": "code",
   "execution_count": 13,
   "metadata": {},
   "outputs": [
    {
     "data": {
      "image/png": "[encoded data removed]",
      "text/plain": [
       "<Figure size 432x288 with 1 Axes>"
      ]
     },
     "metadata": {
      "needs_background": "light"
     },
     "output_type": "display_data"
    }
   ],
   "source": [
    "sns.countplot(df[\"Title\"]);"
   ]
  },
  {
   "cell_type": "code",
   "execution_count": 16,
   "metadata": {},
   "outputs": [
    {
     "data": {
      "image/png": "[encoded data removed]",
      "text/plain": [
       "<Figure size 432x216 with 2 Axes>"
      ]
     },
     "metadata": {
      "needs_background": "light"
     },
     "output_type": "display_data"
    }
   ],
   "source": [
    "age_surv = sns.FacetGrid(df, col='Survived')\n",
    "age_surv = age_surv.map(sns.distplot, 'Age')"
   ]
  },
  {
   "cell_type": "code",
   "execution_count": 17,
   "metadata": {},
   "outputs": [
    {
     "data": {
      "text/plain": [
       "0      30.0\n",
       "1      35.5\n",
       "2      22.0\n",
       "3      35.5\n",
       "4      30.0\n",
       "       ... \n",
       "413    30.0\n",
       "414    35.5\n",
       "415    30.0\n",
       "416    30.0\n",
       "417     4.0\n",
       "Name: Age, Length: 1309, dtype: float64"
      ]
     },
     "execution_count": 17,
     "metadata": {},
     "output_type": "execute_result"
    }
   ],
   "source": [
    "df['Age'].fillna(df.groupby('Title')['Age'].transform('median'), inplace=True)\n",
    "df.groupby('Title')['Age'].transform('median')"
   ]
  },
  {
   "cell_type": "code",
   "execution_count": 18,
   "metadata": {},
   "outputs": [],
   "source": [
    "df['Senior'] = df['Age'].map(lambda s:1 if s>70 else 0)"
   ]
  },
  {
   "cell_type": "code",
   "execution_count": 19,
   "metadata": {},
   "outputs": [
    {
     "data": {
      "image/png": "[encoded data removed]",
      "text/plain": [
       "<Figure size 432x288 with 1 Axes>"
      ]
     },
     "metadata": {
      "needs_background": "light"
     },
     "output_type": "display_data"
    }
   ],
   "source": [
    "sns.countplot(df[\"Senior\"]);"
   ]
  },
  {
   "cell_type": "code",
   "execution_count": 20,
   "metadata": {},
   "outputs": [
    {
     "data": {
      "image/png": "[encoded data removed]",
      "text/plain": [
       "<Figure size 432x288 with 1 Axes>"
      ]
     },
     "metadata": {
      "needs_background": "light"
     },
     "output_type": "display_data"
    }
   ],
   "source": [
    "sns.countplot(x='Survived', data=df, hue='Sex', palette='rocket');"
   ]
  },
  {
   "cell_type": "code",
   "execution_count": 21,
   "metadata": {},
   "outputs": [
    {
     "data": {
      "text/plain": [
       "Sex\n",
       "female    28.349979\n",
       "male      30.210059\n",
       "Name: Age, dtype: float64"
      ]
     },
     "execution_count": 21,
     "metadata": {},
     "output_type": "execute_result"
    }
   ],
   "source": [
    "df.groupby('Sex')['Age'].mean()"
   ]
  },
  {
   "cell_type": "code",
   "execution_count": 22,
   "metadata": {},
   "outputs": [
    {
     "data": {
      "text/html": [
       "<div>\n",
       "<style scoped>\n",
       "    .dataframe tbody tr th:only-of-type {\n",
       "        vertical-align: middle;\n",
       "    }\n",
       "\n",
       "    .dataframe tbody tr th {\n",
       "        vertical-align: top;\n",
       "    }\n",
       "\n",
       "    .dataframe thead th {\n",
       "        text-align: right;\n",
       "    }\n",
       "</style>\n",
       "<table border=\"1\" class=\"dataframe\">\n",
       "  <thead>\n",
       "    <tr style=\"text-align: right;\">\n",
       "      <th></th>\n",
       "      <th>PassengerId</th>\n",
       "      <th>Survived</th>\n",
       "      <th>Pclass</th>\n",
       "      <th>Age</th>\n",
       "      <th>SibSp</th>\n",
       "      <th>Parch</th>\n",
       "      <th>Fare</th>\n",
       "      <th>Senior</th>\n",
       "    </tr>\n",
       "  </thead>\n",
       "  <tbody>\n",
       "    <tr>\n",
       "      <th>count</th>\n",
       "      <td>1309.000000</td>\n",
       "      <td>891.000000</td>\n",
       "      <td>1309.000000</td>\n",
       "      <td>1309.000000</td>\n",
       "      <td>1309.000000</td>\n",
       "      <td>1309.000000</td>\n",
       "      <td>1308.000000</td>\n",
       "      <td>1309.000000</td>\n",
       "    </tr>\n",
       "    <tr>\n",
       "      <th>mean</th>\n",
       "      <td>655.000000</td>\n",
       "      <td>0.383838</td>\n",
       "      <td>2.294882</td>\n",
       "      <td>29.547876</td>\n",
       "      <td>0.498854</td>\n",
       "      <td>0.385027</td>\n",
       "      <td>33.295479</td>\n",
       "      <td>0.004584</td>\n",
       "    </tr>\n",
       "    <tr>\n",
       "      <th>std</th>\n",
       "      <td>378.020061</td>\n",
       "      <td>0.486592</td>\n",
       "      <td>0.837836</td>\n",
       "      <td>13.154383</td>\n",
       "      <td>1.041658</td>\n",
       "      <td>0.865560</td>\n",
       "      <td>51.758668</td>\n",
       "      <td>0.067573</td>\n",
       "    </tr>\n",
       "    <tr>\n",
       "      <th>min</th>\n",
       "      <td>1.000000</td>\n",
       "      <td>0.000000</td>\n",
       "      <td>1.000000</td>\n",
       "      <td>0.170000</td>\n",
       "      <td>0.000000</td>\n",
       "      <td>0.000000</td>\n",
       "      <td>0.000000</td>\n",
       "      <td>0.000000</td>\n",
       "    </tr>\n",
       "    <tr>\n",
       "      <th>25%</th>\n",
       "      <td>328.000000</td>\n",
       "      <td>0.000000</td>\n",
       "      <td>2.000000</td>\n",
       "      <td>22.000000</td>\n",
       "      <td>0.000000</td>\n",
       "      <td>0.000000</td>\n",
       "      <td>7.895800</td>\n",
       "      <td>0.000000</td>\n",
       "    </tr>\n",
       "    <tr>\n",
       "      <th>50%</th>\n",
       "      <td>655.000000</td>\n",
       "      <td>0.000000</td>\n",
       "      <td>3.000000</td>\n",
       "      <td>30.000000</td>\n",
       "      <td>0.000000</td>\n",
       "      <td>0.000000</td>\n",
       "      <td>14.454200</td>\n",
       "      <td>0.000000</td>\n",
       "    </tr>\n",
       "    <tr>\n",
       "      <th>75%</th>\n",
       "      <td>982.000000</td>\n",
       "      <td>1.000000</td>\n",
       "      <td>3.000000</td>\n",
       "      <td>35.500000</td>\n",
       "      <td>1.000000</td>\n",
       "      <td>0.000000</td>\n",
       "      <td>31.275000</td>\n",
       "      <td>0.000000</td>\n",
       "    </tr>\n",
       "    <tr>\n",
       "      <th>max</th>\n",
       "      <td>1309.000000</td>\n",
       "      <td>1.000000</td>\n",
       "      <td>3.000000</td>\n",
       "      <td>80.000000</td>\n",
       "      <td>8.000000</td>\n",
       "      <td>9.000000</td>\n",
       "      <td>512.329200</td>\n",
       "      <td>1.000000</td>\n",
       "    </tr>\n",
       "  </tbody>\n",
       "</table>\n",
       "</div>"
      ],
      "text/plain": [
       "       PassengerId    Survived       Pclass          Age        SibSp  \\\n",
       "count  1309.000000  891.000000  1309.000000  1309.000000  1309.000000   \n",
       "mean    655.000000    0.383838     2.294882    29.547876     0.498854   \n",
       "std     378.020061    0.486592     0.837836    13.154383     1.041658   \n",
       "min       1.000000    0.000000     1.000000     0.170000     0.000000   \n",
       "25%     328.000000    0.000000     2.000000    22.000000     0.000000   \n",
       "50%     655.000000    0.000000     3.000000    30.000000     0.000000   \n",
       "75%     982.000000    1.000000     3.000000    35.500000     1.000000   \n",
       "max    1309.000000    1.000000     3.000000    80.000000     8.000000   \n",
       "\n",
       "             Parch         Fare       Senior  \n",
       "count  1309.000000  1308.000000  1309.000000  \n",
       "mean      0.385027    33.295479     0.004584  \n",
       "std       0.865560    51.758668     0.067573  \n",
       "min       0.000000     0.000000     0.000000  \n",
       "25%       0.000000     7.895800     0.000000  \n",
       "50%       0.000000    14.454200     0.000000  \n",
       "75%       0.000000    31.275000     0.000000  \n",
       "max       9.000000   512.329200     1.000000  "
      ]
     },
     "execution_count": 22,
     "metadata": {},
     "output_type": "execute_result"
    }
   ],
   "source": [
    "df.describe()"
   ]
  },
  {
   "cell_type": "code",
   "execution_count": 23,
   "metadata": {},
   "outputs": [
    {
     "data": {
      "text/plain": [
       "PassengerId      0\n",
       "Survived       418\n",
       "Pclass           0\n",
       "Name             0\n",
       "Sex              0\n",
       "Age              0\n",
       "SibSp            0\n",
       "Parch            0\n",
       "Ticket           0\n",
       "Fare             1\n",
       "Embarked         2\n",
       "Title            0\n",
       "Senior           0\n",
       "dtype: int64"
      ]
     },
     "execution_count": 23,
     "metadata": {},
     "output_type": "execute_result"
    }
   ],
   "source": [
    "df.isnull().sum()"
   ]
  },
  {
   "cell_type": "code",
   "execution_count": 24,
   "metadata": {},
   "outputs": [
    {
     "data": {
      "image/png": "[encoded data removed]",
      "text/plain": [
       "<Figure size 432x288 with 1 Axes>"
      ]
     },
     "metadata": {
      "needs_background": "light"
     },
     "output_type": "display_data"
    }
   ],
   "source": [
    "df.groupby(\"Title\")[\"Age\"].median().plot.bar();"
   ]
  },
  {
   "cell_type": "code",
   "execution_count": 25,
   "metadata": {},
   "outputs": [],
   "source": [
    "df['Fare'].fillna(df['Fare'].mean(), inplace=True)"
   ]
  },
  {
   "cell_type": "code",
   "execution_count": 26,
   "metadata": {},
   "outputs": [],
   "source": [
    "df['Family'] = df['SibSp'] + df['Parch'] + 1"
   ]
  },
  {
   "cell_type": "code",
   "execution_count": 27,
   "metadata": {},
   "outputs": [
    {
     "data": {
      "image/png": "[encoded data removed]",
      "text/plain": [
       "<Figure size 432x288 with 1 Axes>"
      ]
     },
     "metadata": {
      "needs_background": "light"
     },
     "output_type": "display_data"
    }
   ],
   "source": [
    "df.Embarked.value_counts(dropna=False).plot(kind='bar');"
   ]
  },
  {
   "cell_type": "code",
   "execution_count": 28,
   "metadata": {},
   "outputs": [
    {
     "data": {
      "image/png": "[encoded data removed]",
      "text/plain": [
       "<Figure size 720x720 with 1 Axes>"
      ]
     },
     "metadata": {},
     "output_type": "display_data"
    }
   ],
   "source": [
    "plt.figure(figsize=(10,10))\n",
    "df['Embarked'].value_counts().plot.pie(autopct='%1.2f%%', startangle=60, explode=(0.1,0,0))\n",
    "plt.title('Port');"
   ]
  },
  {
   "cell_type": "code",
   "execution_count": 29,
   "metadata": {},
   "outputs": [],
   "source": [
    "df['Embarked'] = df['Embarked'].fillna('S')"
   ]
  },
  {
   "cell_type": "code",
   "execution_count": 30,
   "metadata": {},
   "outputs": [
    {
     "data": {
      "image/png": "[encoded data removed]",
      "text/plain": [
       "<Figure size 432x288 with 1 Axes>"
      ]
     },
     "metadata": {
      "needs_background": "light"
     },
     "output_type": "display_data"
    }
   ],
   "source": [
    "sns.countplot(x='Embarked', hue='Survived', data=df);"
   ]
  },
  {
   "cell_type": "code",
   "execution_count": 31,
   "metadata": {},
   "outputs": [
    {
     "data": {
      "image/png": "[encoded data removed]",
      "text/plain": [
       "<Figure size 432x288 with 1 Axes>"
      ]
     },
     "metadata": {
      "needs_background": "light"
     },
     "output_type": "display_data"
    }
   ],
   "source": [
    "sns.histplot(df[\"Age\"],kde=True);"
   ]
  },
  {
   "cell_type": "code",
   "execution_count": 32,
   "metadata": {},
   "outputs": [
    {
     "data": {
      "text/plain": [
       "1     790\n",
       "2     235\n",
       "3     159\n",
       "4      43\n",
       "6      25\n",
       "5      22\n",
       "7      16\n",
       "11     11\n",
       "8       8\n",
       "Name: Family, dtype: int64"
      ]
     },
     "execution_count": 32,
     "metadata": {},
     "output_type": "execute_result"
    }
   ],
   "source": [
    "df.Family.value_counts()"
   ]
  },
  {
   "cell_type": "code",
   "execution_count": 33,
   "metadata": {},
   "outputs": [
    {
     "data": {
      "image/png": "[encoded data removed]",
      "text/plain": [
       "<Figure size 432x288 with 1 Axes>"
      ]
     },
     "metadata": {
      "needs_background": "light"
     },
     "output_type": "display_data"
    }
   ],
   "source": [
    "sns.histplot(df[\"Family\"],kde=True);"
   ]
  },
  {
   "cell_type": "code",
   "execution_count": 34,
   "metadata": {},
   "outputs": [],
   "source": [
    "df['Single'] = df.Family<2\n",
    "df['Small'] = (df.Family>1)&(df.Family<5)\n",
    "df['Medium'] = (df.Family>4)&(df.Family<7)\n",
    "df['Large'] = df.Family>6"
   ]
  },
  {
   "cell_type": "code",
   "execution_count": 35,
   "metadata": {},
   "outputs": [
    {
     "data": {
      "image/png": "[encoded data removed]",
      "text/plain": [
       "<Figure size 432x432 with 1 Axes>"
      ]
     },
     "metadata": {
      "needs_background": "light"
     },
     "output_type": "display_data"
    }
   ],
   "source": [
    "sns.catplot(x='Embarked', y='Fare', kind='violin', inner=None, data=df, height=6, order=['C', 'Q', 'S'])\n",
    "plt.title('Distribution of Fare by Embarked')\n",
    "plt.tight_layout();"
   ]
  },
  {
   "cell_type": "code",
   "execution_count": 36,
   "metadata": {},
   "outputs": [
    {
     "data": {
      "image/png": "[encoded data removed]",
      "text/plain": [
       "<Figure size 432x288 with 1 Axes>"
      ]
     },
     "metadata": {
      "needs_background": "light"
     },
     "output_type": "display_data"
    }
   ],
   "source": [
    "sns.boxplot(df['Fare']);"
   ]
  },
  {
   "cell_type": "code",
   "execution_count": 37,
   "metadata": {},
   "outputs": [
    {
     "data": {
      "image/png": "[encoded data removed]",
      "text/plain": [
       "<Figure size 432x288 with 1 Axes>"
      ]
     },
     "metadata": {
      "needs_background": "light"
     },
     "output_type": "display_data"
    }
   ],
   "source": [
    "sns.countplot(x='Survived', data=df, hue='Pclass', palette='deep');"
   ]
  },
  {
   "cell_type": "code",
   "execution_count": 38,
   "metadata": {},
   "outputs": [
    {
     "data": {
      "image/png": "[encoded data removed]",
      "text/plain": [
       "<Figure size 720x360 with 1 Axes>"
      ]
     },
     "metadata": {
      "needs_background": "light"
     },
     "output_type": "display_data"
    }
   ],
   "source": [
    "plt.figure(figsize=(10,5))\n",
    "sns.boxplot(x='Survived', y='Fare', data=df, palette='winter');"
   ]
  },
  {
   "cell_type": "code",
   "execution_count": 39,
   "metadata": {},
   "outputs": [
    {
     "data": {
      "image/png": "[encoded data removed]",
      "text/plain": [
       "<Figure size 432x288 with 1 Axes>"
      ]
     },
     "metadata": {
      "needs_background": "light"
     },
     "output_type": "display_data"
    }
   ],
   "source": [
    "sns.countplot(x='Survived', data=df, hue='Sex', palette='winter');"
   ]
  },
  {
   "cell_type": "code",
   "execution_count": 40,
   "metadata": {},
   "outputs": [
    {
     "data": {
      "image/png": "[encoded data removed]",
      "text/plain": [
       "<Figure size 720x360 with 1 Axes>"
      ]
     },
     "metadata": {
      "needs_background": "light"
     },
     "output_type": "display_data"
    }
   ],
   "source": [
    "plt.figure(figsize=(10,5))\n",
    "sns.barplot(x=df['SibSp'], y=df['Survived']);"
   ]
  },
  {
   "cell_type": "code",
   "execution_count": 41,
   "metadata": {},
   "outputs": [
    {
     "name": "stdout",
     "output_type": "stream",
     "text": [
      "<class 'pandas.core.frame.DataFrame'>\n",
      "Int64Index: 1309 entries, 0 to 417\n",
      "Data columns (total 18 columns):\n",
      " #   Column       Non-Null Count  Dtype  \n",
      "---  ------       --------------  -----  \n",
      " 0   PassengerId  1309 non-null   int64  \n",
      " 1   Survived     891 non-null    float64\n",
      " 2   Pclass       1309 non-null   int64  \n",
      " 3   Name         1309 non-null   object \n",
      " 4   Sex          1309 non-null   object \n",
      " 5   Age          1309 non-null   float64\n",
      " 6   SibSp        1309 non-null   int64  \n",
      " 7   Parch        1309 non-null   int64  \n",
      " 8   Ticket       1309 non-null   object \n",
      " 9   Fare         1309 non-null   float64\n",
      " 10  Embarked     1309 non-null   object \n",
      " 11  Title        1309 non-null   object \n",
      " 12  Senior       1309 non-null   int64  \n",
      " 13  Family       1309 non-null   int64  \n",
      " 14  Single       1309 non-null   bool   \n",
      " 15  Small        1309 non-null   bool   \n",
      " 16  Medium       1309 non-null   bool   \n",
      " 17  Large        1309 non-null   bool   \n",
      "dtypes: bool(4), float64(3), int64(6), object(5)\n",
      "memory usage: 190.8+ KB\n"
     ]
    }
   ],
   "source": [
    "df.info()"
   ]
  },
  {
   "cell_type": "code",
   "execution_count": 42,
   "metadata": {},
   "outputs": [],
   "source": [
    "df.drop(['PassengerId', 'Ticket', 'Name'], axis=1, inplace=True)"
   ]
  },
  {
   "cell_type": "code",
   "execution_count": 43,
   "metadata": {},
   "outputs": [],
   "source": [
    "df=pd.get_dummies(df,drop_first=True)"
   ]
  },
  {
   "cell_type": "code",
   "execution_count": 44,
   "metadata": {},
   "outputs": [
    {
     "data": {
      "text/plain": [
       "(1309, 18)"
      ]
     },
     "execution_count": 44,
     "metadata": {},
     "output_type": "execute_result"
    }
   ],
   "source": [
    "df.shape"
   ]
  },
  {
   "cell_type": "code",
   "execution_count": 45,
   "metadata": {},
   "outputs": [],
   "source": [
    "x, y = df[:891].drop(\"Survived\",axis=1), df[:891][[\"Survived\"]]"
   ]
  },
  {
   "cell_type": "code",
   "execution_count": 46,
   "metadata": {},
   "outputs": [
    {
     "data": {
      "text/plain": [
       "((891, 17), (891, 1))"
      ]
     },
     "execution_count": 46,
     "metadata": {},
     "output_type": "execute_result"
    }
   ],
   "source": [
    "x.shape, y.shape"
   ]
  },
  {
   "cell_type": "code",
   "execution_count": 47,
   "metadata": {},
   "outputs": [],
   "source": [
    "model=Sequential()\n",
    "model.add(Dense(12,activation='relu'))\n",
    "model.add(Dense(10,activation='relu'))\n",
    "model.add(Dense(8,activation='relu'))\n",
    "model.add(Dense(6,activation='relu'))\n",
    "model.add(Dense(1,activation='sigmoid'))"
   ]
  },
  {
   "cell_type": "code",
   "execution_count": 48,
   "metadata": {},
   "outputs": [],
   "source": [
    "model.compile(loss='binary_crossentropy',optimizer=\"adam\",metrics=[\"accuracy\"])"
   ]
  },
  {
   "cell_type": "code",
   "execution_count": 50,
   "metadata": {},
   "outputs": [],
   "source": [
    "x=np.asarray(x).astype(np.int)\n",
    "\n",
    "y=np.asarray(y).astype(np.int)"
   ]
  },
  {
   "cell_type": "code",
   "execution_count": 51,
   "metadata": {
    "collapsed": true
   },
   "outputs": [
    {
     "name": "stdout",
     "output_type": "stream",
     "text": [
      "Epoch 1/150\n",
      "90/90 [==============================] - 1s 1ms/step - loss: 0.7033 - accuracy: 0.6861\n",
      "Epoch 2/150\n",
      "90/90 [==============================] - 0s 1ms/step - loss: 0.6000 - accuracy: 0.6971\n",
      "Epoch 3/150\n",
      "90/90 [==============================] - 0s 1ms/step - loss: 0.6038 - accuracy: 0.6778\n",
      "Epoch 4/150\n",
      "90/90 [==============================] - 0s 1ms/step - loss: 0.5764 - accuracy: 0.7117\n",
      "Epoch 5/150\n",
      "90/90 [==============================] - 0s 1ms/step - loss: 0.5893 - accuracy: 0.6917\n",
      "Epoch 6/150\n",
      "90/90 [==============================] - 0s 1ms/step - loss: 0.5615 - accuracy: 0.7181\n",
      "Epoch 7/150\n",
      "90/90 [==============================] - 0s 1ms/step - loss: 0.5046 - accuracy: 0.7538\n",
      "Epoch 8/150\n",
      "90/90 [==============================] - 0s 1ms/step - loss: 0.4685 - accuracy: 0.7847\n",
      "Epoch 9/150\n",
      "90/90 [==============================] - 0s 1ms/step - loss: 0.4865 - accuracy: 0.7726\n",
      "Epoch 10/150\n",
      "90/90 [==============================] - 0s 1ms/step - loss: 0.4440 - accuracy: 0.8145\n",
      "Epoch 11/150\n",
      "90/90 [==============================] - 0s 1ms/step - loss: 0.4571 - accuracy: 0.7956\n",
      "Epoch 12/150\n",
      "90/90 [==============================] - 0s 1ms/step - loss: 0.5018 - accuracy: 0.7719\n",
      "Epoch 13/150\n",
      "90/90 [==============================] - 0s 1ms/step - loss: 0.4397 - accuracy: 0.8017\n",
      "Epoch 14/150\n",
      "90/90 [==============================] - 0s 1ms/step - loss: 0.4079 - accuracy: 0.8307\n",
      "Epoch 15/150\n",
      "90/90 [==============================] - 0s 1ms/step - loss: 0.4584 - accuracy: 0.7911\n",
      "Epoch 16/150\n",
      "90/90 [==============================] - 0s 1ms/step - loss: 0.4285 - accuracy: 0.8135\n",
      "Epoch 17/150\n",
      "90/90 [==============================] - 0s 1ms/step - loss: 0.4634 - accuracy: 0.7866\n",
      "Epoch 18/150\n",
      "90/90 [==============================] - 0s 1ms/step - loss: 0.4076 - accuracy: 0.8330\n",
      "Epoch 19/150\n",
      "90/90 [==============================] - 0s 1ms/step - loss: 0.4379 - accuracy: 0.8078\n",
      "Epoch 20/150\n",
      "90/90 [==============================] - 0s 1ms/step - loss: 0.4336 - accuracy: 0.8164\n",
      "Epoch 21/150\n",
      "90/90 [==============================] - 0s 2ms/step - loss: 0.4688 - accuracy: 0.8027\n",
      "Epoch 22/150\n",
      "90/90 [==============================] - 0s 1ms/step - loss: 0.4105 - accuracy: 0.8182\n",
      "Epoch 23/150\n",
      "90/90 [==============================] - 0s 1ms/step - loss: 0.4510 - accuracy: 0.8205\n",
      "Epoch 24/150\n",
      "90/90 [==============================] - 0s 1ms/step - loss: 0.4321 - accuracy: 0.8149\n",
      "Epoch 25/150\n",
      "90/90 [==============================] - 0s 2ms/step - loss: 0.4076 - accuracy: 0.8195\n",
      "Epoch 26/150\n",
      "90/90 [==============================] - 0s 1ms/step - loss: 0.4235 - accuracy: 0.8011\n",
      "Epoch 27/150\n",
      "90/90 [==============================] - ETA: 0s - loss: 0.4337 - accuracy: 0.80 - 0s 1ms/step - loss: 0.4306 - accuracy: 0.8120\n",
      "Epoch 28/150\n",
      "90/90 [==============================] - 0s 2ms/step - loss: 0.4117 - accuracy: 0.8421\n",
      "Epoch 29/150\n",
      "90/90 [==============================] - 0s 1ms/step - loss: 0.4090 - accuracy: 0.8265\n",
      "Epoch 30/150\n",
      "90/90 [==============================] - 0s 1ms/step - loss: 0.4365 - accuracy: 0.7967\n",
      "Epoch 31/150\n",
      "90/90 [==============================] - 0s 1ms/step - loss: 0.4370 - accuracy: 0.7996\n",
      "Epoch 32/150\n",
      "90/90 [==============================] - 0s 1ms/step - loss: 0.4278 - accuracy: 0.8137\n",
      "Epoch 33/150\n",
      "90/90 [==============================] - 0s 1ms/step - loss: 0.4132 - accuracy: 0.8144\n",
      "Epoch 34/150\n",
      "90/90 [==============================] - 0s 2ms/step - loss: 0.4365 - accuracy: 0.8191\n",
      "Epoch 35/150\n",
      "90/90 [==============================] - 0s 1ms/step - loss: 0.4195 - accuracy: 0.8136\n",
      "Epoch 36/150\n",
      "90/90 [==============================] - 0s 1ms/step - loss: 0.4300 - accuracy: 0.7984\n",
      "Epoch 37/150\n",
      "90/90 [==============================] - 0s 1ms/step - loss: 0.4243 - accuracy: 0.8206\n",
      "Epoch 38/150\n",
      "90/90 [==============================] - 0s 1ms/step - loss: 0.3991 - accuracy: 0.8146\n",
      "Epoch 39/150\n",
      "90/90 [==============================] - 0s 1ms/step - loss: 0.4179 - accuracy: 0.8196\n",
      "Epoch 40/150\n",
      "90/90 [==============================] - 0s 1ms/step - loss: 0.4064 - accuracy: 0.8260\n",
      "Epoch 41/150\n",
      "90/90 [==============================] - 0s 1ms/step - loss: 0.3957 - accuracy: 0.8220\n",
      "Epoch 42/150\n",
      "90/90 [==============================] - 0s 1ms/step - loss: 0.3882 - accuracy: 0.8479\n",
      "Epoch 43/150\n",
      "90/90 [==============================] - 0s 2ms/step - loss: 0.3893 - accuracy: 0.8250\n",
      "Epoch 44/150\n",
      "90/90 [==============================] - 0s 2ms/step - loss: 0.4006 - accuracy: 0.8195\n",
      "Epoch 45/150\n",
      "90/90 [==============================] - 0s 2ms/step - loss: 0.3997 - accuracy: 0.8190\n",
      "Epoch 46/150\n",
      "90/90 [==============================] - 0s 2ms/step - loss: 0.4299 - accuracy: 0.7983\n",
      "Epoch 47/150\n",
      "90/90 [==============================] - 0s 1ms/step - loss: 0.3899 - accuracy: 0.8385\n",
      "Epoch 48/150\n",
      "90/90 [==============================] - 0s 1ms/step - loss: 0.4098 - accuracy: 0.8092\n",
      "Epoch 49/150\n",
      "90/90 [==============================] - 0s 1ms/step - loss: 0.3870 - accuracy: 0.8411\n",
      "Epoch 50/150\n",
      "90/90 [==============================] - 0s 1ms/step - loss: 0.4049 - accuracy: 0.8178\n",
      "Epoch 51/150\n",
      "90/90 [==============================] - 0s 2ms/step - loss: 0.3898 - accuracy: 0.8259\n",
      "Epoch 52/150\n",
      "90/90 [==============================] - 0s 1ms/step - loss: 0.4444 - accuracy: 0.8202\n",
      "Epoch 53/150\n",
      "90/90 [==============================] - 0s 2ms/step - loss: 0.4095 - accuracy: 0.8226\n",
      "Epoch 54/150\n",
      "90/90 [==============================] - 0s 1ms/step - loss: 0.4198 - accuracy: 0.8054\n",
      "Epoch 55/150\n",
      "90/90 [==============================] - 0s 1ms/step - loss: 0.3826 - accuracy: 0.8295\n",
      "Epoch 56/150\n",
      "90/90 [==============================] - 0s 1ms/step - loss: 0.4070 - accuracy: 0.8116\n",
      "Epoch 57/150\n",
      "90/90 [==============================] - 0s 2ms/step - loss: 0.4673 - accuracy: 0.7781\n",
      "Epoch 58/150\n",
      "90/90 [==============================] - 0s 1ms/step - loss: 0.4264 - accuracy: 0.8160\n",
      "Epoch 59/150\n",
      "90/90 [==============================] - 0s 1ms/step - loss: 0.3980 - accuracy: 0.8257\n",
      "Epoch 60/150\n",
      "90/90 [==============================] - 0s 1ms/step - loss: 0.3729 - accuracy: 0.8453\n",
      "Epoch 61/150\n",
      "90/90 [==============================] - 0s 1ms/step - loss: 0.4028 - accuracy: 0.8202\n",
      "Epoch 62/150\n",
      "90/90 [==============================] - 0s 1ms/step - loss: 0.3960 - accuracy: 0.8344\n",
      "Epoch 63/150\n",
      "90/90 [==============================] - 0s 1ms/step - loss: 0.3771 - accuracy: 0.8378\n",
      "Epoch 64/150\n",
      "90/90 [==============================] - 0s 1ms/step - loss: 0.3791 - accuracy: 0.8423\n",
      "Epoch 65/150\n",
      "90/90 [==============================] - 0s 1ms/step - loss: 0.3940 - accuracy: 0.8116\n",
      "Epoch 66/150\n",
      "90/90 [==============================] - 0s 1ms/step - loss: 0.3803 - accuracy: 0.8391\n",
      "Epoch 67/150\n",
      "90/90 [==============================] - 0s 1ms/step - loss: 0.3710 - accuracy: 0.8357\n",
      "Epoch 68/150\n",
      "90/90 [==============================] - 0s 1ms/step - loss: 0.3816 - accuracy: 0.8213\n",
      "Epoch 69/150\n",
      "90/90 [==============================] - 0s 1ms/step - loss: 0.4080 - accuracy: 0.8193\n",
      "Epoch 70/150\n",
      "90/90 [==============================] - 0s 1ms/step - loss: 0.4072 - accuracy: 0.8294\n",
      "Epoch 71/150\n",
      "90/90 [==============================] - 0s 1ms/step - loss: 0.4259 - accuracy: 0.8160\n",
      "Epoch 72/150\n",
      "90/90 [==============================] - 0s 1ms/step - loss: 0.3766 - accuracy: 0.8501\n",
      "Epoch 73/150\n",
      "90/90 [==============================] - 0s 1ms/step - loss: 0.4202 - accuracy: 0.7997: 0s - loss: 0.4481 - accuracy: 0.\n",
      "Epoch 74/150\n",
      "90/90 [==============================] - 0s 1ms/step - loss: 0.4297 - accuracy: 0.8254\n",
      "Epoch 75/150\n",
      "90/90 [==============================] - 0s 1ms/step - loss: 0.3972 - accuracy: 0.8279\n",
      "Epoch 76/150\n",
      "90/90 [==============================] - 0s 1ms/step - loss: 0.4064 - accuracy: 0.7919\n",
      "Epoch 77/150\n",
      "90/90 [==============================] - 0s 1ms/step - loss: 0.3996 - accuracy: 0.8255\n",
      "Epoch 78/150\n",
      "90/90 [==============================] - 0s 1ms/step - loss: 0.3953 - accuracy: 0.8242\n",
      "Epoch 79/150\n",
      "90/90 [==============================] - 0s 1ms/step - loss: 0.3656 - accuracy: 0.8410\n",
      "Epoch 80/150\n",
      "90/90 [==============================] - 0s 1ms/step - loss: 0.3965 - accuracy: 0.8176\n",
      "Epoch 81/150\n",
      "90/90 [==============================] - 0s 1ms/step - loss: 0.4177 - accuracy: 0.7968\n",
      "Epoch 82/150\n"
     ]
    },
    {
     "name": "stdout",
     "output_type": "stream",
     "text": [
      "90/90 [==============================] - 0s 1ms/step - loss: 0.3501 - accuracy: 0.8411\n",
      "Epoch 83/150\n",
      "90/90 [==============================] - 0s 1ms/step - loss: 0.3693 - accuracy: 0.8375\n",
      "Epoch 84/150\n",
      "90/90 [==============================] - 0s 2ms/step - loss: 0.3988 - accuracy: 0.8375\n",
      "Epoch 85/150\n",
      "90/90 [==============================] - 0s 1ms/step - loss: 0.3897 - accuracy: 0.8153\n",
      "Epoch 86/150\n",
      "90/90 [==============================] - 0s 2ms/step - loss: 0.3433 - accuracy: 0.8502\n",
      "Epoch 87/150\n",
      "90/90 [==============================] - 0s 1ms/step - loss: 0.3729 - accuracy: 0.8275\n",
      "Epoch 88/150\n",
      "90/90 [==============================] - 0s 1ms/step - loss: 0.3703 - accuracy: 0.8350\n",
      "Epoch 89/150\n",
      "90/90 [==============================] - 0s 1ms/step - loss: 0.4018 - accuracy: 0.8301\n",
      "Epoch 90/150\n",
      "90/90 [==============================] - 0s 1ms/step - loss: 0.4118 - accuracy: 0.8159\n",
      "Epoch 91/150\n",
      "90/90 [==============================] - 0s 3ms/step - loss: 0.3933 - accuracy: 0.8067\n",
      "Epoch 92/150\n",
      "90/90 [==============================] - 0s 2ms/step - loss: 0.4221 - accuracy: 0.8013\n",
      "Epoch 93/150\n",
      "90/90 [==============================] - 0s 1ms/step - loss: 0.3634 - accuracy: 0.8450\n",
      "Epoch 94/150\n",
      "90/90 [==============================] - 0s 1ms/step - loss: 0.3885 - accuracy: 0.8294\n",
      "Epoch 95/150\n",
      "90/90 [==============================] - 0s 1ms/step - loss: 0.4045 - accuracy: 0.8266\n",
      "Epoch 96/150\n",
      "90/90 [==============================] - 0s 1ms/step - loss: 0.3851 - accuracy: 0.8321\n",
      "Epoch 97/150\n",
      "90/90 [==============================] - 0s 1ms/step - loss: 0.3962 - accuracy: 0.8147\n",
      "Epoch 98/150\n",
      "90/90 [==============================] - 0s 1ms/step - loss: 0.4390 - accuracy: 0.8113\n",
      "Epoch 99/150\n",
      "90/90 [==============================] - 0s 1ms/step - loss: 0.3793 - accuracy: 0.8340\n",
      "Epoch 100/150\n",
      "90/90 [==============================] - 0s 1ms/step - loss: 0.3609 - accuracy: 0.8459\n",
      "Epoch 101/150\n",
      "90/90 [==============================] - 0s 1ms/step - loss: 0.3540 - accuracy: 0.8376\n",
      "Epoch 102/150\n",
      "90/90 [==============================] - 0s 1ms/step - loss: 0.3723 - accuracy: 0.8420\n",
      "Epoch 103/150\n",
      "90/90 [==============================] - 0s 1ms/step - loss: 0.4280 - accuracy: 0.8082\n",
      "Epoch 104/150\n",
      "90/90 [==============================] - 0s 1ms/step - loss: 0.3790 - accuracy: 0.8316\n",
      "Epoch 105/150\n",
      "90/90 [==============================] - 0s 1ms/step - loss: 0.4373 - accuracy: 0.7873\n",
      "Epoch 106/150\n",
      "90/90 [==============================] - 0s 1ms/step - loss: 0.4008 - accuracy: 0.8221\n",
      "Epoch 107/150\n",
      "90/90 [==============================] - 0s 1ms/step - loss: 0.3934 - accuracy: 0.8173\n",
      "Epoch 108/150\n",
      "90/90 [==============================] - 0s 1ms/step - loss: 0.3573 - accuracy: 0.8469\n",
      "Epoch 109/150\n",
      "90/90 [==============================] - 0s 1ms/step - loss: 0.4042 - accuracy: 0.8218\n",
      "Epoch 110/150\n",
      "90/90 [==============================] - 0s 1ms/step - loss: 0.4089 - accuracy: 0.8041\n",
      "Epoch 111/150\n",
      "90/90 [==============================] - 0s 1ms/step - loss: 0.3910 - accuracy: 0.8398\n",
      "Epoch 112/150\n",
      "90/90 [==============================] - 0s 1ms/step - loss: 0.3647 - accuracy: 0.8338\n",
      "Epoch 113/150\n",
      "90/90 [==============================] - 0s 1ms/step - loss: 0.3583 - accuracy: 0.8255\n",
      "Epoch 114/150\n",
      "90/90 [==============================] - 0s 1ms/step - loss: 0.3843 - accuracy: 0.8309\n",
      "Epoch 115/150\n",
      "90/90 [==============================] - 0s 1ms/step - loss: 0.3759 - accuracy: 0.8355\n",
      "Epoch 116/150\n",
      "90/90 [==============================] - 0s 1ms/step - loss: 0.3813 - accuracy: 0.8251\n",
      "Epoch 117/150\n",
      "90/90 [==============================] - 0s 1ms/step - loss: 0.3524 - accuracy: 0.8500\n",
      "Epoch 118/150\n",
      "90/90 [==============================] - 0s 1ms/step - loss: 0.3574 - accuracy: 0.8404\n",
      "Epoch 119/150\n",
      "90/90 [==============================] - 0s 1ms/step - loss: 0.3558 - accuracy: 0.8336\n",
      "Epoch 120/150\n",
      "90/90 [==============================] - 0s 2ms/step - loss: 0.4020 - accuracy: 0.8333\n",
      "Epoch 121/150\n",
      "90/90 [==============================] - 0s 1ms/step - loss: 0.3981 - accuracy: 0.8196\n",
      "Epoch 122/150\n",
      "90/90 [==============================] - 0s 1ms/step - loss: 0.4041 - accuracy: 0.8108\n",
      "Epoch 123/150\n",
      "90/90 [==============================] - 0s 1ms/step - loss: 0.3587 - accuracy: 0.8431\n",
      "Epoch 124/150\n",
      "90/90 [==============================] - 0s 2ms/step - loss: 0.3902 - accuracy: 0.8323\n",
      "Epoch 125/150\n",
      "90/90 [==============================] - 0s 1ms/step - loss: 0.3961 - accuracy: 0.8188\n",
      "Epoch 126/150\n",
      "90/90 [==============================] - 0s 2ms/step - loss: 0.3646 - accuracy: 0.8433\n",
      "Epoch 127/150\n",
      "90/90 [==============================] - 0s 2ms/step - loss: 0.3931 - accuracy: 0.8232\n",
      "Epoch 128/150\n",
      "90/90 [==============================] - 0s 2ms/step - loss: 0.3808 - accuracy: 0.8298\n",
      "Epoch 129/150\n",
      "90/90 [==============================] - 0s 2ms/step - loss: 0.3854 - accuracy: 0.8326\n",
      "Epoch 130/150\n",
      "90/90 [==============================] - 0s 1ms/step - loss: 0.3937 - accuracy: 0.8336\n",
      "Epoch 131/150\n",
      "90/90 [==============================] - 0s 1ms/step - loss: 0.3897 - accuracy: 0.8155\n",
      "Epoch 132/150\n",
      "90/90 [==============================] - 0s 1ms/step - loss: 0.3859 - accuracy: 0.8272\n",
      "Epoch 133/150\n",
      "90/90 [==============================] - 0s 1ms/step - loss: 0.4086 - accuracy: 0.8202\n",
      "Epoch 134/150\n",
      "90/90 [==============================] - 0s 1ms/step - loss: 0.4165 - accuracy: 0.8096\n",
      "Epoch 135/150\n",
      "90/90 [==============================] - 0s 1ms/step - loss: 0.3791 - accuracy: 0.8303\n",
      "Epoch 136/150\n",
      "90/90 [==============================] - 0s 1ms/step - loss: 0.3647 - accuracy: 0.8472\n",
      "Epoch 137/150\n",
      "90/90 [==============================] - 0s 1ms/step - loss: 0.3747 - accuracy: 0.8405\n",
      "Epoch 138/150\n",
      "90/90 [==============================] - 0s 1ms/step - loss: 0.4212 - accuracy: 0.8010\n",
      "Epoch 139/150\n",
      "90/90 [==============================] - 0s 1ms/step - loss: 0.3896 - accuracy: 0.8402\n",
      "Epoch 140/150\n",
      "90/90 [==============================] - 0s 1ms/step - loss: 0.3585 - accuracy: 0.8420\n",
      "Epoch 141/150\n",
      "90/90 [==============================] - 0s 1ms/step - loss: 0.4276 - accuracy: 0.8015\n",
      "Epoch 142/150\n",
      "90/90 [==============================] - 0s 1ms/step - loss: 0.3709 - accuracy: 0.8287\n",
      "Epoch 143/150\n",
      "90/90 [==============================] - 0s 1ms/step - loss: 0.3820 - accuracy: 0.8209\n",
      "Epoch 144/150\n",
      "90/90 [==============================] - 0s 1ms/step - loss: 0.3824 - accuracy: 0.8308\n",
      "Epoch 145/150\n",
      "90/90 [==============================] - 0s 1ms/step - loss: 0.3854 - accuracy: 0.8333\n",
      "Epoch 146/150\n",
      "90/90 [==============================] - 0s 1ms/step - loss: 0.3602 - accuracy: 0.8376\n",
      "Epoch 147/150\n",
      "90/90 [==============================] - 0s 1ms/step - loss: 0.3563 - accuracy: 0.8406\n",
      "Epoch 148/150\n",
      "90/90 [==============================] - 0s 1ms/step - loss: 0.3951 - accuracy: 0.8129\n",
      "Epoch 149/150\n",
      "90/90 [==============================] - 0s 1ms/step - loss: 0.3561 - accuracy: 0.8463\n",
      "Epoch 150/150\n",
      "90/90 [==============================] - 0s 1ms/step - loss: 0.3854 - accuracy: 0.8232\n"
     ]
    }
   ],
   "source": [
    "history=model.fit(x,y,epochs=150,batch_size=10,verbose=1)"
   ]
  },
  {
   "cell_type": "code",
   "execution_count": 52,
   "metadata": {},
   "outputs": [
    {
     "name": "stdout",
     "output_type": "stream",
     "text": [
      "Model: \"sequential\"\n",
      "_________________________________________________________________\n",
      "Layer (type)                 Output Shape              Param #   \n",
      "=================================================================\n",
      "dense (Dense)                (None, 12)                216       \n",
      "_________________________________________________________________\n",
      "dense_1 (Dense)              (None, 10)                130       \n",
      "_________________________________________________________________\n",
      "dense_2 (Dense)              (None, 8)                 88        \n",
      "_________________________________________________________________\n",
      "dense_3 (Dense)              (None, 6)                 54        \n",
      "_________________________________________________________________\n",
      "dense_4 (Dense)              (None, 1)                 7         \n",
      "=================================================================\n",
      "Total params: 495\n",
      "Trainable params: 495\n",
      "Non-trainable params: 0\n",
      "_________________________________________________________________\n"
     ]
    }
   ],
   "source": [
    "model.summary()"
   ]
  },
  {
   "cell_type": "code",
   "execution_count": 53,
   "metadata": {},
   "outputs": [
    {
     "name": "stdout",
     "output_type": "stream",
     "text": [
      "28/28 [==============================] - 0s 2ms/step - loss: 0.3735 - accuracy: 0.8384\n"
     ]
    }
   ],
   "source": [
    "scores=model.evaluate(x,y)"
   ]
  },
  {
   "cell_type": "code",
   "execution_count": 54,
   "metadata": {},
   "outputs": [
    {
     "name": "stdout",
     "output_type": "stream",
     "text": [
      "accuracy: 83.84%\n"
     ]
    }
   ],
   "source": [
    "print(\"%s: %.2f%%\" % (model.metrics_names[1],scores[1]*100))"
   ]
  },
  {
   "cell_type": "code",
   "execution_count": 55,
   "metadata": {},
   "outputs": [
    {
     "name": "stdout",
     "output_type": "stream",
     "text": [
      "dict_keys(['loss', 'accuracy'])\n"
     ]
    }
   ],
   "source": [
    "print(history.history.keys())"
   ]
  },
  {
   "cell_type": "code",
   "execution_count": 56,
   "metadata": {},
   "outputs": [
    {
     "data": {
      "image/png": "[encoded data removed]",
      "text/plain": [
       "<Figure size 432x288 with 1 Axes>"
      ]
     },
     "metadata": {
      "needs_background": "light"
     },
     "output_type": "display_data"
    }
   ],
   "source": [
    "fig=plt.figure(1)\n",
    "plt.plot(history.history[\"accuracy\"])\n",
    "plt.plot(history.history[\"loss\"])\n",
    "plt.title(\"Model Accuracy\")\n",
    "plt.xlabel(\"Accuracy\")\n",
    "plt.ylabel(\"Epoch\")\n",
    "plt.legend([\"training\", \"testing\"], loc= \"upper left\");"
   ]
  },
  {
   "cell_type": "code",
   "execution_count": 57,
   "metadata": {
    "collapsed": true
   },
   "outputs": [
    {
     "name": "stdout",
     "output_type": "stream",
     "text": [
      "Epoch 1/200\n",
      "72/72 - 0s - loss: 0.3943 - accuracy: 0.8272 - val_loss: 0.3015 - val_accuracy: 0.8659\n",
      "Epoch 2/200\n",
      "72/72 - 0s - loss: 0.3979 - accuracy: 0.8146 - val_loss: 0.3089 - val_accuracy: 0.8659\n",
      "Epoch 3/200\n",
      "72/72 - 0s - loss: 0.3992 - accuracy: 0.8062 - val_loss: 0.3026 - val_accuracy: 0.8603\n",
      "Epoch 4/200\n",
      "72/72 - 0s - loss: 0.3878 - accuracy: 0.8272 - val_loss: 0.3061 - val_accuracy: 0.8771\n",
      "Epoch 5/200\n",
      "72/72 - 0s - loss: 0.3937 - accuracy: 0.8244 - val_loss: 0.3001 - val_accuracy: 0.8603\n",
      "Epoch 6/200\n",
      "72/72 - 0s - loss: 0.3945 - accuracy: 0.8272 - val_loss: 0.3058 - val_accuracy: 0.8715\n",
      "Epoch 7/200\n",
      "72/72 - 0s - loss: 0.3860 - accuracy: 0.8343 - val_loss: 0.3090 - val_accuracy: 0.8659\n",
      "Epoch 8/200\n",
      "72/72 - 0s - loss: 0.3868 - accuracy: 0.8244 - val_loss: 0.3055 - val_accuracy: 0.8715\n",
      "Epoch 9/200\n",
      "72/72 - 0s - loss: 0.3889 - accuracy: 0.8272 - val_loss: 0.3097 - val_accuracy: 0.8603\n",
      "Epoch 10/200\n",
      "72/72 - 0s - loss: 0.4048 - accuracy: 0.8076 - val_loss: 0.3157 - val_accuracy: 0.8659\n",
      "Epoch 11/200\n",
      "72/72 - 0s - loss: 0.3910 - accuracy: 0.8216 - val_loss: 0.3234 - val_accuracy: 0.8715\n",
      "Epoch 12/200\n",
      "72/72 - 0s - loss: 0.3935 - accuracy: 0.8146 - val_loss: 0.3077 - val_accuracy: 0.8603\n",
      "Epoch 13/200\n",
      "72/72 - 0s - loss: 0.3859 - accuracy: 0.8230 - val_loss: 0.3043 - val_accuracy: 0.8771\n",
      "Epoch 14/200\n",
      "72/72 - 0s - loss: 0.3875 - accuracy: 0.8272 - val_loss: 0.3074 - val_accuracy: 0.8715\n",
      "Epoch 15/200\n",
      "72/72 - 0s - loss: 0.3833 - accuracy: 0.8343 - val_loss: 0.3118 - val_accuracy: 0.8547\n",
      "Epoch 16/200\n",
      "72/72 - 0s - loss: 0.3851 - accuracy: 0.8202 - val_loss: 0.3279 - val_accuracy: 0.8715\n",
      "Epoch 17/200\n",
      "72/72 - 0s - loss: 0.3863 - accuracy: 0.8272 - val_loss: 0.3018 - val_accuracy: 0.8715\n",
      "Epoch 18/200\n",
      "72/72 - 0s - loss: 0.3808 - accuracy: 0.8329 - val_loss: 0.3204 - val_accuracy: 0.8492\n",
      "Epoch 19/200\n",
      "72/72 - 0s - loss: 0.3866 - accuracy: 0.8287 - val_loss: 0.3114 - val_accuracy: 0.8547\n",
      "Epoch 20/200\n",
      "72/72 - 0s - loss: 0.3861 - accuracy: 0.8216 - val_loss: 0.3116 - val_accuracy: 0.8659\n",
      "Epoch 21/200\n",
      "72/72 - 0s - loss: 0.3884 - accuracy: 0.8272 - val_loss: 0.3072 - val_accuracy: 0.8659\n",
      "Epoch 22/200\n",
      "72/72 - 0s - loss: 0.3825 - accuracy: 0.8385 - val_loss: 0.3026 - val_accuracy: 0.8547\n",
      "Epoch 23/200\n",
      "72/72 - 0s - loss: 0.3834 - accuracy: 0.8258 - val_loss: 0.3066 - val_accuracy: 0.8603\n",
      "Epoch 24/200\n",
      "72/72 - 0s - loss: 0.3813 - accuracy: 0.8399 - val_loss: 0.3130 - val_accuracy: 0.8715\n",
      "Epoch 25/200\n",
      "72/72 - 0s - loss: 0.3842 - accuracy: 0.8202 - val_loss: 0.3129 - val_accuracy: 0.8603\n",
      "Epoch 26/200\n",
      "72/72 - 0s - loss: 0.3812 - accuracy: 0.8343 - val_loss: 0.3027 - val_accuracy: 0.8492\n",
      "Epoch 27/200\n",
      "72/72 - 0s - loss: 0.3851 - accuracy: 0.8343 - val_loss: 0.3145 - val_accuracy: 0.8659\n",
      "Epoch 28/200\n",
      "72/72 - 0s - loss: 0.3945 - accuracy: 0.8371 - val_loss: 0.3050 - val_accuracy: 0.8715\n",
      "Epoch 29/200\n",
      "72/72 - 0s - loss: 0.3817 - accuracy: 0.8329 - val_loss: 0.3084 - val_accuracy: 0.8547\n",
      "Epoch 30/200\n",
      "72/72 - 0s - loss: 0.3865 - accuracy: 0.8146 - val_loss: 0.3025 - val_accuracy: 0.8547\n",
      "Epoch 31/200\n",
      "72/72 - 0s - loss: 0.4051 - accuracy: 0.8188 - val_loss: 0.3278 - val_accuracy: 0.8603\n",
      "Epoch 32/200\n",
      "72/72 - 0s - loss: 0.3925 - accuracy: 0.8329 - val_loss: 0.3105 - val_accuracy: 0.8603\n",
      "Epoch 33/200\n",
      "72/72 - 0s - loss: 0.3882 - accuracy: 0.8301 - val_loss: 0.3059 - val_accuracy: 0.8603\n",
      "Epoch 34/200\n",
      "72/72 - 0s - loss: 0.3811 - accuracy: 0.8371 - val_loss: 0.3096 - val_accuracy: 0.8715\n",
      "Epoch 35/200\n",
      "72/72 - 0s - loss: 0.3773 - accuracy: 0.8427 - val_loss: 0.3371 - val_accuracy: 0.8659\n",
      "Epoch 36/200\n",
      "72/72 - 0s - loss: 0.3905 - accuracy: 0.8287 - val_loss: 0.3064 - val_accuracy: 0.8547\n",
      "Epoch 37/200\n",
      "72/72 - 0s - loss: 0.3886 - accuracy: 0.8216 - val_loss: 0.3278 - val_accuracy: 0.8659\n",
      "Epoch 38/200\n",
      "72/72 - 0s - loss: 0.3909 - accuracy: 0.8188 - val_loss: 0.3082 - val_accuracy: 0.8492\n",
      "Epoch 39/200\n",
      "72/72 - 0s - loss: 0.3760 - accuracy: 0.8399 - val_loss: 0.3154 - val_accuracy: 0.8659\n",
      "Epoch 40/200\n",
      "72/72 - 0s - loss: 0.3868 - accuracy: 0.8202 - val_loss: 0.3081 - val_accuracy: 0.8492\n",
      "Epoch 41/200\n",
      "72/72 - 0s - loss: 0.3798 - accuracy: 0.8315 - val_loss: 0.3050 - val_accuracy: 0.8547\n",
      "Epoch 42/200\n",
      "72/72 - 0s - loss: 0.3970 - accuracy: 0.8258 - val_loss: 0.3155 - val_accuracy: 0.8603\n",
      "Epoch 43/200\n",
      "72/72 - 0s - loss: 0.3947 - accuracy: 0.8258 - val_loss: 0.3120 - val_accuracy: 0.8659\n",
      "Epoch 44/200\n",
      "72/72 - 0s - loss: 0.3851 - accuracy: 0.8357 - val_loss: 0.3088 - val_accuracy: 0.8659\n",
      "Epoch 45/200\n",
      "72/72 - 0s - loss: 0.3819 - accuracy: 0.8272 - val_loss: 0.3145 - val_accuracy: 0.8659\n",
      "Epoch 46/200\n",
      "72/72 - 0s - loss: 0.3820 - accuracy: 0.8272 - val_loss: 0.3060 - val_accuracy: 0.8603\n",
      "Epoch 47/200\n",
      "72/72 - 0s - loss: 0.3787 - accuracy: 0.8329 - val_loss: 0.3096 - val_accuracy: 0.8715\n",
      "Epoch 48/200\n",
      "72/72 - 0s - loss: 0.3833 - accuracy: 0.8244 - val_loss: 0.3084 - val_accuracy: 0.8603\n",
      "Epoch 49/200\n",
      "72/72 - 0s - loss: 0.3818 - accuracy: 0.8357 - val_loss: 0.3153 - val_accuracy: 0.8603\n",
      "Epoch 50/200\n",
      "72/72 - 0s - loss: 0.3950 - accuracy: 0.8371 - val_loss: 0.3165 - val_accuracy: 0.8659\n",
      "Epoch 51/200\n",
      "72/72 - 0s - loss: 0.3857 - accuracy: 0.8244 - val_loss: 0.3181 - val_accuracy: 0.8603\n",
      "Epoch 52/200\n",
      "72/72 - 0s - loss: 0.3951 - accuracy: 0.8188 - val_loss: 0.3223 - val_accuracy: 0.8659\n",
      "Epoch 53/200\n",
      "72/72 - 0s - loss: 0.3902 - accuracy: 0.8329 - val_loss: 0.3104 - val_accuracy: 0.8715\n",
      "Epoch 54/200\n",
      "72/72 - 0s - loss: 0.3780 - accuracy: 0.8272 - val_loss: 0.3088 - val_accuracy: 0.8603\n",
      "Epoch 55/200\n",
      "72/72 - 0s - loss: 0.3844 - accuracy: 0.8315 - val_loss: 0.3078 - val_accuracy: 0.8659\n",
      "Epoch 56/200\n",
      "72/72 - 0s - loss: 0.3807 - accuracy: 0.8244 - val_loss: 0.3078 - val_accuracy: 0.8659\n",
      "Epoch 57/200\n",
      "72/72 - 0s - loss: 0.3862 - accuracy: 0.8216 - val_loss: 0.3088 - val_accuracy: 0.8659\n",
      "Epoch 58/200\n",
      "72/72 - 0s - loss: 0.3769 - accuracy: 0.8399 - val_loss: 0.3511 - val_accuracy: 0.8380\n",
      "Epoch 59/200\n",
      "72/72 - 0s - loss: 0.3881 - accuracy: 0.8230 - val_loss: 0.3090 - val_accuracy: 0.8715\n",
      "Epoch 60/200\n",
      "72/72 - 0s - loss: 0.3868 - accuracy: 0.8315 - val_loss: 0.3081 - val_accuracy: 0.8659\n",
      "Epoch 61/200\n",
      "72/72 - 0s - loss: 0.3759 - accuracy: 0.8315 - val_loss: 0.3115 - val_accuracy: 0.8547\n",
      "Epoch 62/200\n",
      "72/72 - 0s - loss: 0.3802 - accuracy: 0.8315 - val_loss: 0.3233 - val_accuracy: 0.8659\n",
      "Epoch 63/200\n",
      "72/72 - 0s - loss: 0.3808 - accuracy: 0.8315 - val_loss: 0.3143 - val_accuracy: 0.8659\n",
      "Epoch 64/200\n",
      "72/72 - 0s - loss: 0.3820 - accuracy: 0.8343 - val_loss: 0.3094 - val_accuracy: 0.8603\n",
      "Epoch 65/200\n",
      "72/72 - 0s - loss: 0.3826 - accuracy: 0.8244 - val_loss: 0.3131 - val_accuracy: 0.8659\n",
      "Epoch 66/200\n",
      "72/72 - 0s - loss: 0.3988 - accuracy: 0.8230 - val_loss: 0.3090 - val_accuracy: 0.8715\n",
      "Epoch 67/200\n",
      "72/72 - 0s - loss: 0.3840 - accuracy: 0.8202 - val_loss: 0.3181 - val_accuracy: 0.8603\n",
      "Epoch 68/200\n",
      "72/72 - 0s - loss: 0.3831 - accuracy: 0.8371 - val_loss: 0.3085 - val_accuracy: 0.8659\n",
      "Epoch 69/200\n",
      "72/72 - 0s - loss: 0.3736 - accuracy: 0.8329 - val_loss: 0.3107 - val_accuracy: 0.8659\n",
      "Epoch 70/200\n",
      "72/72 - 0s - loss: 0.3717 - accuracy: 0.8399 - val_loss: 0.3082 - val_accuracy: 0.8547\n",
      "Epoch 71/200\n",
      "72/72 - 0s - loss: 0.3779 - accuracy: 0.8315 - val_loss: 0.3123 - val_accuracy: 0.8492\n",
      "Epoch 72/200\n",
      "72/72 - 0s - loss: 0.3707 - accuracy: 0.8469 - val_loss: 0.3104 - val_accuracy: 0.8659\n",
      "Epoch 73/200\n",
      "72/72 - 0s - loss: 0.3828 - accuracy: 0.8315 - val_loss: 0.3181 - val_accuracy: 0.8659\n",
      "Epoch 74/200\n",
      "72/72 - 0s - loss: 0.3850 - accuracy: 0.8385 - val_loss: 0.3213 - val_accuracy: 0.8547\n",
      "Epoch 75/200\n",
      "72/72 - 0s - loss: 0.3778 - accuracy: 0.8399 - val_loss: 0.3238 - val_accuracy: 0.8603\n",
      "Epoch 76/200\n",
      "72/72 - 0s - loss: 0.3825 - accuracy: 0.8315 - val_loss: 0.3209 - val_accuracy: 0.8659\n",
      "Epoch 77/200\n",
      "72/72 - 0s - loss: 0.3765 - accuracy: 0.8427 - val_loss: 0.3151 - val_accuracy: 0.8715\n",
      "Epoch 78/200\n",
      "72/72 - 0s - loss: 0.3758 - accuracy: 0.8385 - val_loss: 0.3160 - val_accuracy: 0.8715\n",
      "Epoch 79/200\n",
      "72/72 - 0s - loss: 0.3766 - accuracy: 0.8216 - val_loss: 0.3414 - val_accuracy: 0.8547\n",
      "Epoch 80/200\n",
      "72/72 - 0s - loss: 0.3791 - accuracy: 0.8230 - val_loss: 0.3192 - val_accuracy: 0.8659\n",
      "Epoch 81/200\n",
      "72/72 - 0s - loss: 0.3765 - accuracy: 0.8287 - val_loss: 0.3131 - val_accuracy: 0.8659\n",
      "Epoch 82/200\n",
      "72/72 - 0s - loss: 0.3766 - accuracy: 0.8329 - val_loss: 0.3160 - val_accuracy: 0.8659\n",
      "Epoch 83/200\n"
     ]
    },
    {
     "name": "stdout",
     "output_type": "stream",
     "text": [
      "72/72 - 0s - loss: 0.3770 - accuracy: 0.8301 - val_loss: 0.3271 - val_accuracy: 0.8715\n",
      "Epoch 84/200\n",
      "72/72 - 0s - loss: 0.3807 - accuracy: 0.8413 - val_loss: 0.3114 - val_accuracy: 0.8659\n",
      "Epoch 85/200\n",
      "72/72 - 0s - loss: 0.3807 - accuracy: 0.8272 - val_loss: 0.3144 - val_accuracy: 0.8659\n",
      "Epoch 86/200\n",
      "72/72 - 0s - loss: 0.3760 - accuracy: 0.8216 - val_loss: 0.3191 - val_accuracy: 0.8715\n",
      "Epoch 87/200\n",
      "72/72 - 0s - loss: 0.3769 - accuracy: 0.8399 - val_loss: 0.3293 - val_accuracy: 0.8547\n",
      "Epoch 88/200\n",
      "72/72 - 0s - loss: 0.3781 - accuracy: 0.8301 - val_loss: 0.3390 - val_accuracy: 0.8547\n",
      "Epoch 89/200\n",
      "72/72 - 0s - loss: 0.3776 - accuracy: 0.8343 - val_loss: 0.3222 - val_accuracy: 0.8547\n",
      "Epoch 90/200\n",
      "72/72 - 0s - loss: 0.3742 - accuracy: 0.8174 - val_loss: 0.3163 - val_accuracy: 0.8715\n",
      "Epoch 91/200\n",
      "72/72 - 0s - loss: 0.3712 - accuracy: 0.8357 - val_loss: 0.3251 - val_accuracy: 0.8603\n",
      "Epoch 92/200\n",
      "72/72 - 0s - loss: 0.3757 - accuracy: 0.8315 - val_loss: 0.3300 - val_accuracy: 0.8715\n",
      "Epoch 93/200\n",
      "72/72 - 0s - loss: 0.3836 - accuracy: 0.8146 - val_loss: 0.3174 - val_accuracy: 0.8603\n",
      "Epoch 94/200\n",
      "72/72 - 0s - loss: 0.3675 - accuracy: 0.8371 - val_loss: 0.3269 - val_accuracy: 0.8603\n",
      "Epoch 95/200\n",
      "72/72 - 0s - loss: 0.3762 - accuracy: 0.8272 - val_loss: 0.3269 - val_accuracy: 0.8547\n",
      "Epoch 96/200\n",
      "72/72 - 0s - loss: 0.3663 - accuracy: 0.8399 - val_loss: 0.3205 - val_accuracy: 0.8547\n",
      "Epoch 97/200\n",
      "72/72 - 0s - loss: 0.3753 - accuracy: 0.8329 - val_loss: 0.3185 - val_accuracy: 0.8492\n",
      "Epoch 98/200\n",
      "72/72 - 0s - loss: 0.3715 - accuracy: 0.8371 - val_loss: 0.3181 - val_accuracy: 0.8603\n",
      "Epoch 99/200\n",
      "72/72 - 0s - loss: 0.3930 - accuracy: 0.8146 - val_loss: 0.3245 - val_accuracy: 0.8547\n",
      "Epoch 100/200\n",
      "72/72 - 0s - loss: 0.3776 - accuracy: 0.8287 - val_loss: 0.3209 - val_accuracy: 0.8715\n",
      "Epoch 101/200\n",
      "72/72 - 0s - loss: 0.3674 - accuracy: 0.8301 - val_loss: 0.3167 - val_accuracy: 0.8603\n",
      "Epoch 102/200\n",
      "72/72 - 0s - loss: 0.3684 - accuracy: 0.8371 - val_loss: 0.3210 - val_accuracy: 0.8603\n",
      "Epoch 103/200\n",
      "72/72 - 0s - loss: 0.3742 - accuracy: 0.8357 - val_loss: 0.3248 - val_accuracy: 0.8659\n",
      "Epoch 104/200\n",
      "72/72 - 0s - loss: 0.3693 - accuracy: 0.8244 - val_loss: 0.3211 - val_accuracy: 0.8603\n",
      "Epoch 105/200\n",
      "72/72 - 0s - loss: 0.3688 - accuracy: 0.8385 - val_loss: 0.3259 - val_accuracy: 0.8603\n",
      "Epoch 106/200\n",
      "72/72 - 0s - loss: 0.3692 - accuracy: 0.8357 - val_loss: 0.3173 - val_accuracy: 0.8715\n",
      "Epoch 107/200\n",
      "72/72 - 0s - loss: 0.3667 - accuracy: 0.8343 - val_loss: 0.3211 - val_accuracy: 0.8659\n",
      "Epoch 108/200\n",
      "72/72 - 0s - loss: 0.3690 - accuracy: 0.8315 - val_loss: 0.3176 - val_accuracy: 0.8715\n",
      "Epoch 109/200\n",
      "72/72 - 0s - loss: 0.3738 - accuracy: 0.8315 - val_loss: 0.3470 - val_accuracy: 0.8492\n",
      "Epoch 110/200\n",
      "72/72 - 0s - loss: 0.3794 - accuracy: 0.8315 - val_loss: 0.3198 - val_accuracy: 0.8715\n",
      "Epoch 111/200\n",
      "72/72 - 0s - loss: 0.3704 - accuracy: 0.8244 - val_loss: 0.3387 - val_accuracy: 0.8603\n",
      "Epoch 112/200\n",
      "72/72 - 0s - loss: 0.3830 - accuracy: 0.8160 - val_loss: 0.3360 - val_accuracy: 0.8547\n",
      "Epoch 113/200\n",
      "72/72 - 0s - loss: 0.3826 - accuracy: 0.8357 - val_loss: 0.3274 - val_accuracy: 0.8715\n",
      "Epoch 114/200\n",
      "72/72 - 0s - loss: 0.3735 - accuracy: 0.8315 - val_loss: 0.3195 - val_accuracy: 0.8659\n",
      "Epoch 115/200\n",
      "72/72 - 0s - loss: 0.3659 - accuracy: 0.8357 - val_loss: 0.3249 - val_accuracy: 0.8659\n",
      "Epoch 116/200\n",
      "72/72 - 0s - loss: 0.3666 - accuracy: 0.8399 - val_loss: 0.3334 - val_accuracy: 0.8547\n",
      "Epoch 117/200\n",
      "72/72 - 0s - loss: 0.3767 - accuracy: 0.8272 - val_loss: 0.3229 - val_accuracy: 0.8659\n",
      "Epoch 118/200\n",
      "72/72 - 0s - loss: 0.3730 - accuracy: 0.8441 - val_loss: 0.3250 - val_accuracy: 0.8492\n",
      "Epoch 119/200\n",
      "72/72 - 0s - loss: 0.3665 - accuracy: 0.8399 - val_loss: 0.3232 - val_accuracy: 0.8492\n",
      "Epoch 120/200\n",
      "72/72 - 0s - loss: 0.3705 - accuracy: 0.8272 - val_loss: 0.3216 - val_accuracy: 0.8547\n",
      "Epoch 121/200\n",
      "72/72 - 0s - loss: 0.3727 - accuracy: 0.8399 - val_loss: 0.3387 - val_accuracy: 0.8436\n",
      "Epoch 122/200\n",
      "72/72 - 0s - loss: 0.3714 - accuracy: 0.8399 - val_loss: 0.3270 - val_accuracy: 0.8603\n",
      "Epoch 123/200\n",
      "72/72 - 0s - loss: 0.3766 - accuracy: 0.8399 - val_loss: 0.3289 - val_accuracy: 0.8547\n",
      "Epoch 124/200\n",
      "72/72 - 0s - loss: 0.3689 - accuracy: 0.8315 - val_loss: 0.3312 - val_accuracy: 0.8547\n",
      "Epoch 125/200\n",
      "72/72 - 0s - loss: 0.3705 - accuracy: 0.8357 - val_loss: 0.3305 - val_accuracy: 0.8659\n",
      "Epoch 126/200\n",
      "72/72 - 0s - loss: 0.3812 - accuracy: 0.8399 - val_loss: 0.3209 - val_accuracy: 0.8715\n",
      "Epoch 127/200\n",
      "72/72 - 0s - loss: 0.3665 - accuracy: 0.8343 - val_loss: 0.3295 - val_accuracy: 0.8715\n",
      "Epoch 128/200\n",
      "72/72 - 0s - loss: 0.3890 - accuracy: 0.8287 - val_loss: 0.3237 - val_accuracy: 0.8603\n",
      "Epoch 129/200\n",
      "72/72 - 0s - loss: 0.3693 - accuracy: 0.8357 - val_loss: 0.3266 - val_accuracy: 0.8547\n",
      "Epoch 130/200\n",
      "72/72 - 0s - loss: 0.3641 - accuracy: 0.8357 - val_loss: 0.3271 - val_accuracy: 0.8547\n",
      "Epoch 131/200\n",
      "72/72 - 0s - loss: 0.3731 - accuracy: 0.8343 - val_loss: 0.3358 - val_accuracy: 0.8715\n",
      "Epoch 132/200\n",
      "72/72 - 0s - loss: 0.3732 - accuracy: 0.8202 - val_loss: 0.3454 - val_accuracy: 0.8603\n",
      "Epoch 133/200\n",
      "72/72 - 0s - loss: 0.3698 - accuracy: 0.8343 - val_loss: 0.3244 - val_accuracy: 0.8547\n",
      "Epoch 134/200\n",
      "72/72 - 0s - loss: 0.3652 - accuracy: 0.8399 - val_loss: 0.3233 - val_accuracy: 0.8659\n",
      "Epoch 135/200\n",
      "72/72 - 0s - loss: 0.3878 - accuracy: 0.8343 - val_loss: 0.3223 - val_accuracy: 0.8547\n",
      "Epoch 136/200\n",
      "72/72 - 0s - loss: 0.3664 - accuracy: 0.8385 - val_loss: 0.3175 - val_accuracy: 0.8771\n",
      "Epoch 137/200\n",
      "72/72 - 0s - loss: 0.3667 - accuracy: 0.8371 - val_loss: 0.3246 - val_accuracy: 0.8547\n",
      "Epoch 138/200\n",
      "72/72 - 0s - loss: 0.3705 - accuracy: 0.8357 - val_loss: 0.3195 - val_accuracy: 0.8715\n",
      "Epoch 139/200\n",
      "72/72 - 0s - loss: 0.3711 - accuracy: 0.8329 - val_loss: 0.3230 - val_accuracy: 0.8659\n",
      "Epoch 140/200\n",
      "72/72 - 0s - loss: 0.3669 - accuracy: 0.8343 - val_loss: 0.3387 - val_accuracy: 0.8547\n",
      "Epoch 141/200\n",
      "72/72 - 0s - loss: 0.3718 - accuracy: 0.8329 - val_loss: 0.3301 - val_accuracy: 0.8715\n",
      "Epoch 142/200\n",
      "72/72 - 0s - loss: 0.3830 - accuracy: 0.8385 - val_loss: 0.3223 - val_accuracy: 0.8771\n",
      "Epoch 143/200\n",
      "72/72 - 0s - loss: 0.3694 - accuracy: 0.8357 - val_loss: 0.3250 - val_accuracy: 0.8492\n",
      "Epoch 144/200\n",
      "72/72 - 0s - loss: 0.3647 - accuracy: 0.8272 - val_loss: 0.3429 - val_accuracy: 0.8659\n",
      "Epoch 145/200\n",
      "72/72 - 0s - loss: 0.3623 - accuracy: 0.8329 - val_loss: 0.3277 - val_accuracy: 0.8659\n",
      "Epoch 146/200\n",
      "72/72 - 0s - loss: 0.3623 - accuracy: 0.8511 - val_loss: 0.3265 - val_accuracy: 0.8659\n",
      "Epoch 147/200\n",
      "72/72 - 0s - loss: 0.3725 - accuracy: 0.8399 - val_loss: 0.3278 - val_accuracy: 0.8603\n",
      "Epoch 148/200\n",
      "72/72 - 0s - loss: 0.3675 - accuracy: 0.8399 - val_loss: 0.3215 - val_accuracy: 0.8603\n",
      "Epoch 149/200\n",
      "72/72 - 0s - loss: 0.3611 - accuracy: 0.8413 - val_loss: 0.3287 - val_accuracy: 0.8603\n",
      "Epoch 150/200\n",
      "72/72 - 0s - loss: 0.3662 - accuracy: 0.8385 - val_loss: 0.3445 - val_accuracy: 0.8492\n",
      "Epoch 151/200\n",
      "72/72 - 0s - loss: 0.3757 - accuracy: 0.8287 - val_loss: 0.3286 - val_accuracy: 0.8659\n",
      "Epoch 152/200\n",
      "72/72 - 0s - loss: 0.3573 - accuracy: 0.8525 - val_loss: 0.3233 - val_accuracy: 0.8603\n",
      "Epoch 153/200\n",
      "72/72 - 0s - loss: 0.3626 - accuracy: 0.8441 - val_loss: 0.3250 - val_accuracy: 0.8659\n",
      "Epoch 154/200\n",
      "72/72 - 0s - loss: 0.3749 - accuracy: 0.8315 - val_loss: 0.3420 - val_accuracy: 0.8547\n",
      "Epoch 155/200\n",
      "72/72 - 0s - loss: 0.3681 - accuracy: 0.8385 - val_loss: 0.3314 - val_accuracy: 0.8603\n",
      "Epoch 156/200\n",
      "72/72 - 0s - loss: 0.3606 - accuracy: 0.8469 - val_loss: 0.3460 - val_accuracy: 0.8547\n",
      "Epoch 157/200\n",
      "72/72 - 0s - loss: 0.3784 - accuracy: 0.8272 - val_loss: 0.3418 - val_accuracy: 0.8380\n",
      "Epoch 158/200\n",
      "72/72 - 0s - loss: 0.3661 - accuracy: 0.8441 - val_loss: 0.3245 - val_accuracy: 0.8715\n",
      "Epoch 159/200\n",
      "72/72 - 0s - loss: 0.3654 - accuracy: 0.8413 - val_loss: 0.3264 - val_accuracy: 0.8492\n",
      "Epoch 160/200\n",
      "72/72 - 0s - loss: 0.3605 - accuracy: 0.8427 - val_loss: 0.3343 - val_accuracy: 0.8492\n",
      "Epoch 161/200\n",
      "72/72 - 0s - loss: 0.3652 - accuracy: 0.8385 - val_loss: 0.3250 - val_accuracy: 0.8771\n",
      "Epoch 162/200\n",
      "72/72 - 0s - loss: 0.3596 - accuracy: 0.8455 - val_loss: 0.3341 - val_accuracy: 0.8603\n",
      "Epoch 163/200\n",
      "72/72 - 0s - loss: 0.3604 - accuracy: 0.8385 - val_loss: 0.3333 - val_accuracy: 0.8547\n",
      "Epoch 164/200\n",
      "72/72 - 0s - loss: 0.3628 - accuracy: 0.8427 - val_loss: 0.3324 - val_accuracy: 0.8547\n"
     ]
    },
    {
     "name": "stdout",
     "output_type": "stream",
     "text": [
      "Epoch 165/200\n",
      "72/72 - 0s - loss: 0.3637 - accuracy: 0.8357 - val_loss: 0.3247 - val_accuracy: 0.8659\n",
      "Epoch 166/200\n",
      "72/72 - 0s - loss: 0.3652 - accuracy: 0.8301 - val_loss: 0.3259 - val_accuracy: 0.8715\n",
      "Epoch 167/200\n",
      "72/72 - 0s - loss: 0.3621 - accuracy: 0.8413 - val_loss: 0.3288 - val_accuracy: 0.8492\n",
      "Epoch 168/200\n",
      "72/72 - 0s - loss: 0.3597 - accuracy: 0.8469 - val_loss: 0.3232 - val_accuracy: 0.8603\n",
      "Epoch 169/200\n",
      "72/72 - 0s - loss: 0.3633 - accuracy: 0.8385 - val_loss: 0.3434 - val_accuracy: 0.8492\n",
      "Epoch 170/200\n",
      "72/72 - 0s - loss: 0.3647 - accuracy: 0.8385 - val_loss: 0.3328 - val_accuracy: 0.8715\n",
      "Epoch 171/200\n",
      "72/72 - 0s - loss: 0.3634 - accuracy: 0.8385 - val_loss: 0.3245 - val_accuracy: 0.8715\n",
      "Epoch 172/200\n",
      "72/72 - 0s - loss: 0.3572 - accuracy: 0.8441 - val_loss: 0.3414 - val_accuracy: 0.8380\n",
      "Epoch 173/200\n",
      "72/72 - 0s - loss: 0.3633 - accuracy: 0.8301 - val_loss: 0.3221 - val_accuracy: 0.8715\n",
      "Epoch 174/200\n",
      "72/72 - 0s - loss: 0.3686 - accuracy: 0.8272 - val_loss: 0.3344 - val_accuracy: 0.8603\n",
      "Epoch 175/200\n",
      "72/72 - 0s - loss: 0.3605 - accuracy: 0.8441 - val_loss: 0.3270 - val_accuracy: 0.8603\n",
      "Epoch 176/200\n",
      "72/72 - 0s - loss: 0.3628 - accuracy: 0.8343 - val_loss: 0.3263 - val_accuracy: 0.8492\n",
      "Epoch 177/200\n",
      "72/72 - 0s - loss: 0.3639 - accuracy: 0.8371 - val_loss: 0.3274 - val_accuracy: 0.8603\n",
      "Epoch 178/200\n",
      "72/72 - 0s - loss: 0.3513 - accuracy: 0.8539 - val_loss: 0.3399 - val_accuracy: 0.8492\n",
      "Epoch 179/200\n",
      "72/72 - 0s - loss: 0.3669 - accuracy: 0.8258 - val_loss: 0.3290 - val_accuracy: 0.8659\n",
      "Epoch 180/200\n",
      "72/72 - 0s - loss: 0.3632 - accuracy: 0.8427 - val_loss: 0.3282 - val_accuracy: 0.8715\n",
      "Epoch 181/200\n",
      "72/72 - 0s - loss: 0.3618 - accuracy: 0.8399 - val_loss: 0.3425 - val_accuracy: 0.8603\n",
      "Epoch 182/200\n",
      "72/72 - 0s - loss: 0.3580 - accuracy: 0.8371 - val_loss: 0.3355 - val_accuracy: 0.8492\n",
      "Epoch 183/200\n",
      "72/72 - 0s - loss: 0.3612 - accuracy: 0.8385 - val_loss: 0.3369 - val_accuracy: 0.8603\n",
      "Epoch 184/200\n",
      "72/72 - 0s - loss: 0.3671 - accuracy: 0.8329 - val_loss: 0.3279 - val_accuracy: 0.8659\n",
      "Epoch 185/200\n",
      "72/72 - 0s - loss: 0.3620 - accuracy: 0.8441 - val_loss: 0.3245 - val_accuracy: 0.8547\n",
      "Epoch 186/200\n",
      "72/72 - 0s - loss: 0.3714 - accuracy: 0.8315 - val_loss: 0.3302 - val_accuracy: 0.8547\n",
      "Epoch 187/200\n",
      "72/72 - 0s - loss: 0.3554 - accuracy: 0.8455 - val_loss: 0.3382 - val_accuracy: 0.8547\n",
      "Epoch 188/200\n",
      "72/72 - 0s - loss: 0.3740 - accuracy: 0.8329 - val_loss: 0.3287 - val_accuracy: 0.8659\n",
      "Epoch 189/200\n",
      "72/72 - 0s - loss: 0.3619 - accuracy: 0.8371 - val_loss: 0.3236 - val_accuracy: 0.8547\n",
      "Epoch 190/200\n",
      "72/72 - 0s - loss: 0.3650 - accuracy: 0.8371 - val_loss: 0.3334 - val_accuracy: 0.8380\n",
      "Epoch 191/200\n",
      "72/72 - 0s - loss: 0.3600 - accuracy: 0.8525 - val_loss: 0.3306 - val_accuracy: 0.8659\n",
      "Epoch 192/200\n",
      "72/72 - 0s - loss: 0.3687 - accuracy: 0.8427 - val_loss: 0.3320 - val_accuracy: 0.8547\n",
      "Epoch 193/200\n",
      "72/72 - 0s - loss: 0.3607 - accuracy: 0.8329 - val_loss: 0.3309 - val_accuracy: 0.8603\n",
      "Epoch 194/200\n",
      "72/72 - 0s - loss: 0.3628 - accuracy: 0.8343 - val_loss: 0.3349 - val_accuracy: 0.8603\n",
      "Epoch 195/200\n",
      "72/72 - 0s - loss: 0.3602 - accuracy: 0.8399 - val_loss: 0.3372 - val_accuracy: 0.8547\n",
      "Epoch 196/200\n",
      "72/72 - 0s - loss: 0.3617 - accuracy: 0.8301 - val_loss: 0.3472 - val_accuracy: 0.8492\n",
      "Epoch 197/200\n",
      "72/72 - 0s - loss: 0.3675 - accuracy: 0.8469 - val_loss: 0.3305 - val_accuracy: 0.8603\n",
      "Epoch 198/200\n",
      "72/72 - 0s - loss: 0.3622 - accuracy: 0.8455 - val_loss: 0.3282 - val_accuracy: 0.8603\n",
      "Epoch 199/200\n",
      "72/72 - 0s - loss: 0.3554 - accuracy: 0.8497 - val_loss: 0.3287 - val_accuracy: 0.8603\n",
      "Epoch 200/200\n",
      "72/72 - 0s - loss: 0.3579 - accuracy: 0.8497 - val_loss: 0.3435 - val_accuracy: 0.8436\n"
     ]
    }
   ],
   "source": [
    "history=model.fit(x,y,validation_split=0.2,epochs=200,batch_size=10,verbose=2)"
   ]
  },
  {
   "cell_type": "code",
   "execution_count": 58,
   "metadata": {},
   "outputs": [
    {
     "data": {
      "image/png": "[encoded data removed]",
      "text/plain": [
       "<Figure size 432x288 with 1 Axes>"
      ]
     },
     "metadata": {
      "needs_background": "light"
     },
     "output_type": "display_data"
    }
   ],
   "source": [
    "fig=plt.figure(1)\n",
    "plt.plot(history.history[\"accuracy\"])\n",
    "plt.plot(history.history[\"val_accuracy\"])\n",
    "plt.title(\"Model Accuracy\")\n",
    "plt.xlabel(\"Accuracy\")\n",
    "plt.ylabel(\"Epoch\")\n",
    "plt.legend([\"training\", \"testing\"], loc= \"upper left\");"
   ]
  },
  {
   "cell_type": "code",
   "execution_count": 59,
   "metadata": {},
   "outputs": [
    {
     "data": {
      "image/png": "[encoded data removed]",
      "text/plain": [
       "<Figure size 432x288 with 1 Axes>"
      ]
     },
     "metadata": {
      "needs_background": "light"
     },
     "output_type": "display_data"
    }
   ],
   "source": [
    "fig=plt.figure(2)\n",
    "plt.plot(history.history[\"loss\"])\n",
    "plt.plot(history.history[\"val_loss\"])\n",
    "plt.title(\"Model Loss\")\n",
    "plt.xlabel(\"Loss\")\n",
    "plt.ylabel(\"Epoch\")\n",
    "plt.legend([\"training\", \"testing\"], loc= \"upper left\");"
   ]
  }
 ],
 "metadata": {
  "kernelspec": {
   "display_name": "Python 3",
   "language": "python",
   "name": "python3"
  },
  "language_info": {
   "codemirror_mode": {
    "name": "ipython",
    "version": 3
   },
   "file_extension": ".py",
   "mimetype": "text/x-python",
   "name": "python",
   "nbconvert_exporter": "python",
   "pygments_lexer": "ipython3",
   "version": "3.8.5"
  }
 },
 "nbformat": 4,
 "nbformat_minor": 4
}
